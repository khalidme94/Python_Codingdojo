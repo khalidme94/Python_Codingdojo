{
 "cells": [
  {
   "cell_type": "markdown",
   "metadata": {},
   "source": [
    "Question:\n",
    "```\n",
    "An instructor offers a prize of $20.00 to anyone who thinks that two people in the room have the same birthday.\n",
    "\n",
    "Your assignment is to build a Monte Carlo simulation to tell the instructor how many people need to be in the room to give him/her a better than 50% chance of winning the $20.\n",
    "\n",
    "That is to say how many people need to be in a room in order for the probability of two of them having the same birthday is greater than 50%. Do the same for 95% and 99%.\n",
    "```"
   ]
  },
  {
   "cell_type": "markdown",
   "metadata": {},
   "source": [
    "Solution:"
   ]
  },
  {
   "cell_type": "code",
   "execution_count": 1,
   "metadata": {},
   "outputs": [],
   "source": [
    "import random"
   ]
  },
  {
   "cell_type": "code",
   "execution_count": 2,
   "metadata": {},
   "outputs": [],
   "source": [
    "# Create funtion to run simulations\n",
    "\n",
    "def chance(n):\n",
    "    # set up variables\n",
    "    people = 0\n",
    "    trials = 10000\n",
    "\n",
    "    # set up variable for storing matches\n",
    "    matches = 0\n",
    "    probability = float(matches/trials)\n",
    "\n",
    "    while probability <=n:\n",
    "        for trial in range(trials):\n",
    "            # make a dictionary to hold the outcome (1 for match, 0 for no match)\n",
    "            taken = {}\n",
    "\n",
    "            # give each person a birthday\n",
    "            for person in range(people):\n",
    "                # 365 days in the year\n",
    "                day = random.randint(0, 365)\n",
    "                # if someone else already has this birthday\n",
    "                if day in taken:\n",
    "                    # we have a match\n",
    "                    matches += 1\n",
    "                    # end the trial\n",
    "                    break\n",
    "                # show that this day is taken\n",
    "                taken[day] = 1\n",
    "\n",
    "        people+=1\n",
    "        probability = float(matches/trials)\n",
    "    print(f'We found that as long number of people is {people + 1} or more, the chance to win $20 will be better than %{n*100}')"
   ]
  },
  {
   "cell_type": "code",
   "execution_count": 3,
   "metadata": {},
   "outputs": [
    {
     "name": "stdout",
     "output_type": "stream",
     "text": [
      "We found that as long number of people is 13 or more, the chance to win $20 will be better than %50.0\n",
      "We found that as long number of people is 16 or more, the chance to win $20 will be better than %95.0\n",
      "We found that as long number of people is 16 or more, the chance to win $20 will be better than %99.0\n"
     ]
    }
   ],
   "source": [
    "# Run simulations\n",
    "chance(0.5)\n",
    "chance(0.95)\n",
    "chance(0.99)"
   ]
  },
  {
   "cell_type": "code",
   "execution_count": null,
   "metadata": {},
   "outputs": [],
   "source": []
  }
 ],
 "metadata": {
  "kernelspec": {
   "display_name": "Python 3",
   "language": "python",
   "name": "python3"
  },
  "language_info": {
   "codemirror_mode": {
    "name": "ipython",
    "version": 3
   },
   "file_extension": ".py",
   "mimetype": "text/x-python",
   "name": "python",
   "nbconvert_exporter": "python",
   "pygments_lexer": "ipython3",
   "version": "3.7.6"
  }
 },
 "nbformat": 4,
 "nbformat_minor": 4
}

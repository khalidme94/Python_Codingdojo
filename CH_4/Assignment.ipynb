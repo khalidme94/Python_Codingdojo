{
 "cells": [
  {
   "cell_type": "code",
   "execution_count": 1,
   "metadata": {},
   "outputs": [],
   "source": [
    "import numpy as np"
   ]
  },
  {
   "cell_type": "markdown",
   "metadata": {},
   "source": [
    "section1:\n",
    "3x + 5y = 6\n",
    "7x - 5y = 9\n",
    "\n",
    "```\n",
    "[3  5]  [6]\n",
    "[7 -5]  [9]\n",
    "```"
   ]
  },
  {
   "cell_type": "code",
   "execution_count": 10,
   "metadata": {
    "scrolled": true
   },
   "outputs": [
    {
     "name": "stdout",
     "output_type": "stream",
     "text": [
      "[1.5 0.3]\n"
     ]
    }
   ],
   "source": [
    "A = np.array([[3, 5], [7, -5]])\n",
    "B = np.array([6, 9])\n",
    "X = np.linalg.inv(A).dot(B)\n",
    "\n",
    "print(X)"
   ]
  },
  {
   "cell_type": "markdown",
   "metadata": {},
   "source": [
    "section2:\n",
    "x + y + z = 6\n",
    "    y + z = -4\n",
    "2x + 5y - z = 27\n",
    "\n",
    "```\n",
    "[1  1  1]  [ 6 ]\n",
    "[0 -1  1]  [-4 ]\n",
    "[2  5 -1]  [ 27]\n",
    "```"
   ]
  },
  {
   "cell_type": "code",
   "execution_count": 6,
   "metadata": {
    "scrolled": true
   },
   "outputs": [
    {
     "name": "stdout",
     "output_type": "stream",
     "text": [
      "[-3.60287970e+16  1.80143985e+16  1.80143985e+16]\n"
     ]
    }
   ],
   "source": [
    "A = np.array([[1, 1, 1], [0, -1, 1],[2, 5, -1]])\n",
    "B = np.array([6, -4, 27])\n",
    "F = np.linalg.inv(A).dot(B)\n",
    "\n",
    "print(F)"
   ]
  },
  {
   "cell_type": "markdown",
   "metadata": {},
   "source": [
    "section3:\n",
    "x + y = 4\n",
    "2x + 2y = 8\n",
    "\n",
    "```\n",
    "[1  1]  [4]\n",
    "[2  2]  [8]\n",
    "```"
   ]
  },
  {
   "cell_type": "code",
   "execution_count": 14,
   "metadata": {
    "scrolled": true
   },
   "outputs": [
    {
     "name": "stdout",
     "output_type": "stream",
     "text": [
      "[4. 0.]\n"
     ]
    }
   ],
   "source": [
    "A = np.array([[1, 1], [2, 2.00000000001]])\n",
    "B = np.array([4, 8])\n",
    "D = np.linalg.inv(A).dot(B)\n",
    "\n",
    "print(D)"
   ]
  }
 ],
 "metadata": {
  "kernelspec": {
   "display_name": "Python 3",
   "language": "python",
   "name": "python3"
  },
  "language_info": {
   "codemirror_mode": {
    "name": "ipython",
    "version": 3
   },
   "file_extension": ".py",
   "mimetype": "text/x-python",
   "name": "python",
   "nbconvert_exporter": "python",
   "pygments_lexer": "ipython3",
   "version": "3.7.6"
  }
 },
 "nbformat": 4,
 "nbformat_minor": 4
}
